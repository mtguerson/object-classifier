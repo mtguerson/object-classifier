{
  "cells": [
    {
      "cell_type": "markdown",
      "source": [
        "# Conectando ao drive"
      ],
      "metadata": {
        "id": "JpOkzL2FEdTZ"
      }
    },
    {
      "cell_type": "code",
      "execution_count": null,
      "metadata": {
        "colab": {
          "base_uri": "https://localhost:8080/"
        },
        "id": "2z2YCKjYmca3",
        "outputId": "f166217f-5f61-44fb-8045-a80eb2f3a882"
      },
      "outputs": [
        {
          "output_type": "stream",
          "name": "stdout",
          "text": [
            "Mounted at /content/drive\n"
          ]
        }
      ],
      "source": [
        "from google.colab import drive\n",
        "drive.mount('/content/drive')"
      ]
    },
    {
      "cell_type": "code",
      "execution_count": null,
      "metadata": {
        "id": "VqPWiU9VGyeR"
      },
      "outputs": [],
      "source": [
        "import os\n",
        "import shutil\n",
        "\n",
        "pasta_origem = '/content/drive/MyDrive/Trabalho IA'\n",
        "pasta_destino_treino = '/content/drive/MyDrive/Trabalho IA/Treino'\n",
        "pasta_destino_teste = '/content/drive/MyDrive/Trabalho IA/Teste'\n",
        "pasta_destino_validacao = '/content/drive/MyDrive/Trabalho IA/Validacao'"
      ]
    },
    {
      "cell_type": "code",
      "execution_count": null,
      "metadata": {
        "id": "mC7QcKAdG4fE"
      },
      "outputs": [],
      "source": [
        "os.makedirs(pasta_destino_treino, exist_ok=True)\n",
        "os.makedirs(pasta_destino_teste, exist_ok=True)\n",
        "os.makedirs(pasta_destino_validacao, exist_ok=True)"
      ]
    },
    {
      "cell_type": "code",
      "execution_count": null,
      "metadata": {
        "id": "LhAVnTafG53Q"
      },
      "outputs": [],
      "source": [
        "proporcao_treino = 0.7\n",
        "proporcao_teste = 0.15\n",
        "proporcao_validacao = 0.15"
      ]
    },
    {
      "cell_type": "code",
      "execution_count": null,
      "metadata": {
        "id": "5CvhfKPlG70x"
      },
      "outputs": [],
      "source": [
        "classes = os.listdir(pasta_origem)\n",
        "\n",
        "for classe in classes:\n",
        "    if classe == 'Treino' or classe == 'Teste' or classe == 'Validacao':\n",
        "      continue\n",
        "    pasta_classe_origem = os.path.join(pasta_origem, classe)\n",
        "    pasta_classe_treino = os.path.join(pasta_destino_treino, classe)\n",
        "    pasta_classe_teste = os.path.join(pasta_destino_teste, classe)\n",
        "    pasta_classe_validacao = os.path.join(pasta_destino_validacao, classe)\n",
        "\n",
        "    os.makedirs(pasta_classe_treino, exist_ok=True)\n",
        "    os.makedirs(pasta_classe_teste, exist_ok=True)\n",
        "    os.makedirs(pasta_classe_validacao, exist_ok=True)\n",
        "\n",
        "    imagens = os.listdir(pasta_classe_origem)\n",
        "    total_imagens = len(imagens)\n",
        "\n",
        "    indice_treino = int(total_imagens * proporcao_treino)\n",
        "    indice_teste = int(total_imagens * (proporcao_treino + proporcao_teste))\n",
        "\n",
        "    for i, imagem in enumerate(imagens):\n",
        "        caminho_origem = os.path.join(pasta_classe_origem, imagem)\n",
        "\n",
        "        if i < indice_treino:\n",
        "            caminho_destino = os.path.join(pasta_classe_treino, imagem)\n",
        "        elif i < indice_teste:\n",
        "            caminho_destino = os.path.join(pasta_classe_teste, imagem)\n",
        "        else:\n",
        "            caminho_destino = os.path.join(pasta_classe_validacao, imagem)\n",
        "\n",
        "        shutil.copy(caminho_origem, caminho_destino)"
      ]
    },
    {
      "cell_type": "markdown",
      "source": [
        "# Rede Neural"
      ],
      "metadata": {
        "id": "RZfLQvfnChEf"
      }
    },
    {
      "cell_type": "code",
      "execution_count": null,
      "metadata": {
        "id": "YYpsA4T7KHio"
      },
      "outputs": [],
      "source": [
        "import torch\n",
        "import torch.nn as nn\n",
        "\n",
        "class CNN(nn.Module):\n",
        "    def __init__(self):\n",
        "        super(CNN, self).__init__()\n",
        "\n",
        "        # Camadas convolucionais\n",
        "        self.conv1 = nn.Conv2d(3, 32, kernel_size=3, stride=1, padding=1)\n",
        "        self.conv2 = nn.Conv2d(32, 64, kernel_size=3, stride=1, padding=1)\n",
        "        self.conv3 = nn.Conv2d(64, 128, kernel_size=3, stride=1, padding=1)\n",
        "        self.conv4 = nn.Conv2d(128, 256, kernel_size=3, stride=1, padding=1)\n",
        "        self.conv5 = nn.Conv2d(256, 512, kernel_size=3, stride=1, padding=1)\n",
        "        self.conv6 = nn.Conv2d(512, 512, kernel_size=3, stride=1, padding=1)\n",
        "        self.conv7 = nn.Conv2d(512, 512, kernel_size=3, stride=1, padding=1)\n",
        "        self.conv8 = nn.Conv2d(512, 512, kernel_size=3, stride=1, padding=1)\n",
        "\n",
        "        # Camadas lineares\n",
        "        self.fc1 = nn.Linear(512 * 14 * 14, 1024)\n",
        "        self.fc2 = nn.Linear(1024, 512)\n",
        "        self.fc3 = nn.Linear(512, 100)  # 100 classes de saída\n",
        "\n",
        "        # Camada de pooling\n",
        "        self.pool = nn.MaxPool2d(kernel_size=2, stride=2)\n",
        "\n",
        "        # Função de ativação\n",
        "        self.relu = nn.ReLU()\n",
        "\n",
        "    def forward(self, x):\n",
        "        x = self.relu(self.conv1(x))\n",
        "        x = self.relu(self.conv2(x))\n",
        "        x = self.pool(x)\n",
        "\n",
        "        x = self.relu(self.conv3(x))\n",
        "        x = self.relu(self.conv4(x))\n",
        "        x = self.pool(x)\n",
        "\n",
        "        x = self.relu(self.conv5(x))\n",
        "        x = self.relu(self.conv6(x))\n",
        "        x = self.pool(x)\n",
        "\n",
        "        x = self.relu(self.conv7(x))\n",
        "        x = self.relu(self.conv8(x))\n",
        "        x = self.pool(x)\n",
        "\n",
        "        x = x.view(x.size(0), -1)  # Achata os dados\n",
        "\n",
        "        x = self.relu(self.fc1(x))\n",
        "        x = self.relu(self.fc2(x))\n",
        "        x = self.fc3(x)\n",
        "\n",
        "        return x"
      ]
    },
    {
      "cell_type": "code",
      "execution_count": null,
      "metadata": {
        "colab": {
          "base_uri": "https://localhost:8080/"
        },
        "id": "1E8osWmBrFol",
        "outputId": "4c0d0b0f-20d6-4be6-a374-7f7826fc0e30"
      },
      "outputs": [
        {
          "output_type": "stream",
          "name": "stdout",
          "text": [
            "Looking in indexes: https://pypi.org/simple, https://us-python.pkg.dev/colab-wheels/public/simple/\n",
            "Collecting gradient-descent-the-ultimate-optimizer\n",
            "  Downloading gradient_descent_the_ultimate_optimizer-1.0-py3-none-any.whl (7.3 kB)\n",
            "Installing collected packages: gradient-descent-the-ultimate-optimizer\n",
            "Successfully installed gradient-descent-the-ultimate-optimizer-1.0\n"
          ]
        }
      ],
      "source": [
        "!pip install gradient-descent-the-ultimate-optimizer"
      ]
    },
    {
      "cell_type": "code",
      "execution_count": null,
      "metadata": {
        "id": "XSosQfr7K1Xf"
      },
      "outputs": [],
      "source": [
        "import torch\n",
        "import torchvision\n",
        "import torchvision.transforms as transforms\n",
        "from gradient_descent_the_ultimate_optimizer import gdtuo"
      ]
    },
    {
      "cell_type": "code",
      "execution_count": null,
      "metadata": {
        "id": "t3HeZgLQr5Qx"
      },
      "outputs": [],
      "source": [
        "modelo = CNN()"
      ]
    },
    {
      "cell_type": "markdown",
      "source": [
        "# Treinamento com CIFAR100"
      ],
      "metadata": {
        "id": "MMjHhy1bCPAE"
      }
    },
    {
      "cell_type": "code",
      "execution_count": null,
      "metadata": {
        "colab": {
          "base_uri": "https://localhost:8080/"
        },
        "id": "a-1jVgqupyuY",
        "outputId": "4c47f076-9969-43f5-a775-1ed2cfea294a"
      },
      "outputs": [
        {
          "output_type": "stream",
          "name": "stdout",
          "text": [
            "Downloading https://www.cs.toronto.edu/~kriz/cifar-100-python.tar.gz to ./data/cifar-100-python.tar.gz\n"
          ]
        },
        {
          "output_type": "stream",
          "name": "stderr",
          "text": [
            "100%|██████████| 169001437/169001437 [00:02<00:00, 76698832.82it/s]\n"
          ]
        },
        {
          "output_type": "stream",
          "name": "stdout",
          "text": [
            "Extracting ./data/cifar-100-python.tar.gz to ./data\n",
            "Files already downloaded and verified\n",
            "EPOCH: 1, TRAIN LOSS: 4.606215459442138\n",
            "EPOCH: 2, TRAIN LOSS: 4.605942235107422\n",
            "EPOCH: 3, TRAIN LOSS: 4.605905676574707\n",
            "EPOCH: 4, TRAIN LOSS: 4.605875799560547\n",
            "EPOCH: 5, TRAIN LOSS: 4.605883851928711\n"
          ]
        }
      ],
      "source": [
        "BATCH_SIZE = 32\n",
        "EPOCHS = 5\n",
        "DEVICE = 'cuda' if torch.cuda.is_available() else 'cpu'\n",
        "modelo.to(DEVICE)\n",
        "\n",
        "transformacao = transforms.Compose([\n",
        "    transforms.Resize((224, 224)),  # Redimensiona as imagens para o tamanho desejado\n",
        "    transforms.ToTensor(),  # Converte as imagens para tensores do PyTorch\n",
        "    transforms.Normalize((0.5, 0.5, 0.5), (0.5, 0.5, 0.5))  # Normaliza os valores dos pixels entre -1 e 1\n",
        "])\n",
        "\n",
        "cifar_train = torchvision.datasets.CIFAR100('./data', train=True, download=True, transform=transformacao)\n",
        "cifar_test = torchvision.datasets.CIFAR100('./data', train=False, download=True, transform=transformacao)\n",
        "dl_train = torch.utils.data.DataLoader(cifar_train, batch_size=BATCH_SIZE, shuffle=True)\n",
        "dl_test = torch.utils.data.DataLoader(cifar_test, batch_size=BATCH_SIZE, shuffle=False)\n",
        "\n",
        "lloss = nn.CrossEntropyLoss()\n",
        "optim = gdtuo.Adam(optimizer=gdtuo.SGD(1e-5))\n",
        "mw = gdtuo.ModuleWrapper(modelo, optimizer=optim)\n",
        "mw.initialize()\n",
        "\n",
        "for i in range(1, EPOCHS+1):\n",
        "    running_loss = 0.0\n",
        "    for j, (features_, labels_) in enumerate(dl_train):\n",
        "        mw.begin() # call this before each step, enables gradient tracking on desired params\n",
        "        features, labels = features_.to(DEVICE), labels_.to(DEVICE)\n",
        "        pred = mw.forward(features)\n",
        "        loss = lloss(pred, labels)\n",
        "        mw.zero_grad()\n",
        "        loss.backward() # important! use create_graph=True\n",
        "        mw.step()\n",
        "        running_loss += loss.item() * features_.size(0)\n",
        "    train_loss = running_loss / len(dl_train.dataset)\n",
        "    print(\"EPOCH: {}, TRAIN LOSS: {}\".format(i, train_loss))\n"
      ]
    },
    {
      "cell_type": "code",
      "execution_count": null,
      "metadata": {
        "id": "khs5Vt7Ouyr8"
      },
      "outputs": [],
      "source": [
        "torch.save(modelo.state_dict(), 'modelo_weights.pth')"
      ]
    },
    {
      "cell_type": "markdown",
      "source": [
        "# Transform"
      ],
      "metadata": {
        "id": "cq3oTqKYUSPM"
      }
    },
    {
      "cell_type": "code",
      "execution_count": null,
      "metadata": {
        "colab": {
          "base_uri": "https://localhost:8080/"
        },
        "id": "j0Pa7LFlK2qc",
        "outputId": "9ec4beca-4d0e-417f-8bf2-b3c7ebe62a71"
      },
      "outputs": [
        {
          "output_type": "stream",
          "name": "stdout",
          "text": [
            "Dataset ImageFolder\n",
            "    Number of datapoints: 435\n",
            "    Root location: /content/drive/MyDrive/Trabalho IA/Treino\n",
            "    StandardTransform\n",
            "Transform: Compose(\n",
            "               Resize(size=(224, 224), interpolation=bilinear, max_size=None, antialias=warn)\n",
            "               ToTensor()\n",
            "               Normalize(mean=(0.5, 0.5, 0.5), std=(0.5, 0.5, 0.5))\n",
            "           )\n",
            "Dataset ImageFolder\n",
            "    Number of datapoints: 93\n",
            "    Root location: /content/drive/MyDrive/Trabalho IA/Teste\n",
            "    StandardTransform\n",
            "Transform: Compose(\n",
            "               Resize(size=(224, 224), interpolation=bilinear, max_size=None, antialias=warn)\n",
            "               ToTensor()\n",
            "               Normalize(mean=(0.5, 0.5, 0.5), std=(0.5, 0.5, 0.5))\n",
            "           )\n",
            "Dataset ImageFolder\n",
            "    Number of datapoints: 96\n",
            "    Root location: /content/drive/MyDrive/Trabalho IA/Validacao\n",
            "    StandardTransform\n",
            "Transform: Compose(\n",
            "               Resize(size=(224, 224), interpolation=bilinear, max_size=None, antialias=warn)\n",
            "               ToTensor()\n",
            "               Normalize(mean=(0.5, 0.5, 0.5), std=(0.5, 0.5, 0.5))\n",
            "           )\n"
          ]
        }
      ],
      "source": [
        "transformacao = transforms.Compose([\n",
        "    transforms.Resize((224, 224)),  # Redimensiona as imagens para o tamanho desejado\n",
        "    transforms.ToTensor(),  # Converte as imagens para tensores do PyTorch\n",
        "    transforms.Normalize((0.5, 0.5, 0.5), (0.5, 0.5, 0.5))  # Normaliza os valores dos pixels entre -1 e 1\n",
        "])\n",
        "\n",
        "conjunto_treino = torchvision.datasets.ImageFolder(root=pasta_destino_treino, transform=transformacao)\n",
        "conjunto_teste = torchvision.datasets.ImageFolder(root=pasta_destino_teste, transform=transformacao)\n",
        "conjunto_validacao = torchvision.datasets.ImageFolder(root=pasta_destino_validacao, transform=transformacao)\n",
        "\n",
        "tamanho_lote = 64\n",
        "\n",
        "dataloader_treino = torch.utils.data.DataLoader(conjunto_treino, batch_size=tamanho_lote, shuffle=True)\n",
        "dataloader_teste = torch.utils.data.DataLoader(conjunto_teste, batch_size=tamanho_lote, shuffle=False)\n",
        "dataloader_validacao = torch.utils.data.DataLoader(conjunto_validacao, batch_size=tamanho_lote, shuffle=False)\n",
        "\n",
        "print(conjunto_treino)\n",
        "print(conjunto_teste)\n",
        "print(conjunto_validacao)"
      ]
    },
    {
      "cell_type": "markdown",
      "source": [
        "# Gráfico para verificar loss de treino e verificação"
      ],
      "metadata": {
        "id": "YeUJSof1UYDq"
      }
    },
    {
      "cell_type": "code",
      "execution_count": null,
      "metadata": {
        "id": "q0zbsThbNn9w"
      },
      "outputs": [],
      "source": [
        "import torch\n",
        "import torch.nn as nn\n",
        "import torch.optim as optim\n",
        "import matplotlib.pyplot as plt\n",
        "\n",
        "def treinar(modelo, treinador, validador, epocas):\n",
        "\n",
        "    device = torch.device(\"cuda\" if torch.cuda.is_available() else \"cpu\")\n",
        "    modelo = modelo.to(device)\n",
        "\n",
        "    print(device)\n",
        "\n",
        "    criterio = nn.CrossEntropyLoss()\n",
        "    otimizador = optim.Adam(modelo.parameters(), lr=0.001)\n",
        "\n",
        "    perdas_treino = []\n",
        "    perdas_validacao = []\n",
        "\n",
        "    for epoca in range(epocas):\n",
        "        perda_treino = 0.0\n",
        "        perda_validacao = 0.0\n",
        "\n",
        "        # Treinamento do modelo\n",
        "        modelo.train()\n",
        "        for imagens, rotulos in treinador:\n",
        "            imagens, rotulos = imagens.to(device), rotulos.to(device)\n",
        "            otimizador.zero_grad()\n",
        "\n",
        "            saidas = modelo(imagens)\n",
        "            perda = criterio(saidas, rotulos)\n",
        "            perda.backward()\n",
        "            otimizador.step()\n",
        "\n",
        "            perda_treino += perda.item() * imagens.size(0)\n",
        "\n",
        "        # Validação do modelo\n",
        "        modelo.eval()\n",
        "        with torch.no_grad():\n",
        "            for imagens, rotulos in validador:\n",
        "                imagens, rotulos = imagens.to(device), rotulos.to(device)\n",
        "                saidas = modelo(imagens)\n",
        "                perda = criterio(saidas, rotulos)\n",
        "\n",
        "                perda_validacao += perda.item() * imagens.size(0)\n",
        "\n",
        "        perda_treino = perda_treino / len(treinador.dataset)\n",
        "        perda_validacao = perda_validacao / len(validador.dataset)\n",
        "\n",
        "        perdas_treino.append(perda_treino)\n",
        "        perdas_validacao.append(perda_validacao)\n",
        "\n",
        "        print(f'Época {epoca+1}/{epocas} - Loss de Treino: {perda_treino:.4f} - Perda de Validação: {perda_validacao:.4f}')\n",
        "\n",
        "    # Plotando as curvas de perda\n",
        "    plt.plot(range(1, epocas+1), perdas_treino, label='Loss de Treino')\n",
        "    plt.plot(range(1, epocas+1), perdas_validacao, label='Loss de Validação')\n",
        "    plt.xlabel('Épocas')\n",
        "    plt.ylabel('Loss')\n",
        "    plt.legend()\n",
        "    plt.show()"
      ]
    },
    {
      "cell_type": "code",
      "execution_count": null,
      "metadata": {
        "id": "KRFjFGtRNqbr"
      },
      "outputs": [],
      "source": [
        "modelo = CNN()"
      ]
    },
    {
      "cell_type": "code",
      "execution_count": null,
      "metadata": {
        "colab": {
          "base_uri": "https://localhost:8080/",
          "height": 642
        },
        "id": "lu8JrWMNNx9a",
        "outputId": "9aefeabc-aa88-4c19-9a52-f75bca3feb09"
      },
      "outputs": [
        {
          "output_type": "stream",
          "name": "stdout",
          "text": [
            "cuda\n",
            "Época 1/10 - Loss de Treino: 3.2655 - Perda de Validação: 2.1761\n",
            "Época 2/10 - Loss de Treino: 1.9296 - Perda de Validação: 1.7428\n",
            "Época 3/10 - Loss de Treino: 1.6731 - Perda de Validação: 1.6588\n",
            "Época 4/10 - Loss de Treino: 1.6430 - Perda de Validação: 1.6278\n",
            "Época 5/10 - Loss de Treino: 1.6481 - Perda de Validação: 1.6212\n",
            "Época 6/10 - Loss de Treino: 1.6322 - Perda de Validação: 1.6102\n",
            "Época 7/10 - Loss de Treino: 1.6225 - Perda de Validação: 1.6130\n",
            "Época 8/10 - Loss de Treino: 1.6170 - Perda de Validação: 1.6062\n",
            "Época 9/10 - Loss de Treino: 1.6312 - Perda de Validação: 1.6114\n",
            "Época 10/10 - Loss de Treino: 1.6385 - Perda de Validação: 1.6253\n"
          ]
        },
        {
          "output_type": "display_data",
          "data": {
            "text/plain": [
              "<Figure size 640x480 with 1 Axes>"
            ],
            "image/png": "[encoded data removed]"
          },
          "metadata": {}
        }
      ],
      "source": [
        "treinar(modelo, dataloader_treino, dataloader_validacao, 10)"
      ]
    },
    {
      "cell_type": "markdown",
      "source": [
        "# Matriz de Confusão"
      ],
      "metadata": {
        "id": "HadUwNCRCwrc"
      }
    },
    {
      "cell_type": "code",
      "execution_count": null,
      "metadata": {
        "id": "2fyi-90PmZTf"
      },
      "outputs": [],
      "source": [
        "import torch\n",
        "import numpy as np\n",
        "import matplotlib.pyplot as plt\n",
        "import seaborn as sns\n",
        "from sklearn.metrics import confusion_matrix\n",
        "\n",
        "def testar(modelo, testeloader):\n",
        "    dispositivo = torch.device(\"cuda\" if torch.cuda.is_available() else \"cpu\")\n",
        "    modelo = modelo.to(dispositivo)\n",
        "\n",
        "    modelo.eval()\n",
        "    predicoes = []\n",
        "    rotulos = []\n",
        "\n",
        "    with torch.no_grad():\n",
        "        for imagens, targets in testeloader:\n",
        "            imagens = imagens.to(dispositivo)\n",
        "            targets = targets.to(dispositivo)\n",
        "\n",
        "            saidas = modelo(imagens)\n",
        "            _, pred = torch.max(saidas, 1)\n",
        "\n",
        "            predicoes.extend(pred.cpu().tolist())\n",
        "            rotulos.extend(targets.cpu().tolist())\n",
        "\n",
        "    matriz_confusao = confusion_matrix(rotulos, predicoes)\n",
        "\n",
        "    # Plotando a matriz de confusão\n",
        "    plt.figure(figsize=(10, 10))\n",
        "    sns.heatmap(matriz_confusao, annot=True, fmt='d', cmap='Blues', cbar=False)\n",
        "    plt.xlabel('Rótulo Predito')\n",
        "    plt.ylabel('Rótulo Verdadeiro')\n",
        "    plt.title('Matriz de Confusão')\n",
        "    plt.show()"
      ]
    },
    {
      "cell_type": "code",
      "execution_count": null,
      "metadata": {
        "colab": {
          "base_uri": "https://localhost:8080/",
          "height": 872
        },
        "id": "5qKFpe6Gnm57",
        "outputId": "d7437ad8-f031-46e7-cc45-52351aa64c10"
      },
      "outputs": [
        {
          "data": {
            "image/png": "[encoded data removed]",
            "text/plain": [
              "<Figure size 1000x1000 with 1 Axes>"
            ]
          },
          "metadata": {},
          "output_type": "display_data"
        }
      ],
      "source": [
        "testar(modelo, dataloader_teste)"
      ]
    },
    {
      "cell_type": "markdown",
      "source": [
        "# Métricas"
      ],
      "metadata": {
        "id": "IT-qtgkoUr7H"
      }
    },
    {
      "cell_type": "code",
      "execution_count": null,
      "metadata": {
        "id": "L-74JsNZpLU1"
      },
      "outputs": [],
      "source": [
        "import torch\n",
        "import numpy as np\n",
        "from sklearn.metrics import classification_report\n",
        "\n",
        "def calcular_metricas(modelo, testeloader):\n",
        "    dispositivo = torch.device(\"cuda\" if torch.cuda.is_available() else \"cpu\")\n",
        "    modelo = modelo.to(dispositivo)\n",
        "\n",
        "    modelo.eval()\n",
        "    predicoes = []\n",
        "    rotulos = []\n",
        "\n",
        "    with torch.no_grad():\n",
        "        for imagens, targets in testeloader:\n",
        "            imagens = imagens.to(dispositivo)\n",
        "            targets = targets.to(dispositivo)\n",
        "\n",
        "            saidas = modelo(imagens)\n",
        "            _, pred = torch.max(saidas, 1)\n",
        "\n",
        "            predicoes.extend(pred.cpu().tolist())\n",
        "            rotulos.extend(targets.cpu().tolist())\n",
        "\n",
        "    relatorio = classification_report(rotulos, predicoes)\n",
        "    print(relatorio)"
      ]
    },
    {
      "cell_type": "code",
      "execution_count": null,
      "metadata": {
        "colab": {
          "base_uri": "https://localhost:8080/"
        },
        "id": "WSakyGxZpNvw",
        "outputId": "36e7c970-dfdd-4950-ce2a-b9af3cad68be"
      },
      "outputs": [
        {
          "name": "stdout",
          "output_type": "stream",
          "text": [
            "              precision    recall  f1-score   support\n",
            "\n",
            "           0       1.00      1.00      1.00        18\n",
            "           1       1.00      1.00      1.00        18\n",
            "           2       0.45      1.00      0.62        18\n",
            "           3       1.00      0.23      0.37        22\n",
            "           4       1.00      0.71      0.83        17\n",
            "\n",
            "    accuracy                           0.76        93\n",
            "   macro avg       0.89      0.79      0.76        93\n",
            "weighted avg       0.89      0.76      0.75        93\n",
            "\n"
          ]
        }
      ],
      "source": [
        "calcular_metricas(modelo, dataloader_teste)"
      ]
    }
  ],
  "metadata": {
    "accelerator": "GPU",
    "colab": {
      "provenance": [],
      "toc_visible": true
    },
    "kernelspec": {
      "display_name": "Python 3",
      "name": "python3"
    },
    "language_info": {
      "name": "python"
    }
  },
  "nbformat": 4,
  "nbformat_minor": 0
}